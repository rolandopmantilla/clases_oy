{
 "cells": [
  {
   "cell_type": "code",
   "execution_count": 6,
   "id": "ec1ae18d",
   "metadata": {},
   "outputs": [
    {
     "data": {
      "text/html": [
       "<div>\n",
       "<style scoped>\n",
       "    .dataframe tbody tr th:only-of-type {\n",
       "        vertical-align: middle;\n",
       "    }\n",
       "\n",
       "    .dataframe tbody tr th {\n",
       "        vertical-align: top;\n",
       "    }\n",
       "\n",
       "    .dataframe thead th {\n",
       "        text-align: right;\n",
       "    }\n",
       "</style>\n",
       "<table border=\"1\" class=\"dataframe\">\n",
       "  <thead>\n",
       "    <tr style=\"text-align: right;\">\n",
       "      <th></th>\n",
       "      <th>Country Name</th>\n",
       "      <th>Country Code</th>\n",
       "      <th>Birth rate</th>\n",
       "      <th>Internet users</th>\n",
       "      <th>Income Group</th>\n",
       "    </tr>\n",
       "  </thead>\n",
       "  <tbody>\n",
       "    <tr>\n",
       "      <th>0</th>\n",
       "      <td>Aruba</td>\n",
       "      <td>ABW</td>\n",
       "      <td>10.244</td>\n",
       "      <td>78.9000</td>\n",
       "      <td>High income</td>\n",
       "    </tr>\n",
       "    <tr>\n",
       "      <th>1</th>\n",
       "      <td>Afghanistan</td>\n",
       "      <td>AFG</td>\n",
       "      <td>35.253</td>\n",
       "      <td>5.9000</td>\n",
       "      <td>Low income</td>\n",
       "    </tr>\n",
       "    <tr>\n",
       "      <th>2</th>\n",
       "      <td>Angola</td>\n",
       "      <td>AGO</td>\n",
       "      <td>45.985</td>\n",
       "      <td>19.1000</td>\n",
       "      <td>Upper middle income</td>\n",
       "    </tr>\n",
       "    <tr>\n",
       "      <th>3</th>\n",
       "      <td>Albania</td>\n",
       "      <td>ALB</td>\n",
       "      <td>12.877</td>\n",
       "      <td>57.2000</td>\n",
       "      <td>Upper middle income</td>\n",
       "    </tr>\n",
       "    <tr>\n",
       "      <th>4</th>\n",
       "      <td>United Arab Emirates</td>\n",
       "      <td>ARE</td>\n",
       "      <td>11.044</td>\n",
       "      <td>88.0000</td>\n",
       "      <td>High income</td>\n",
       "    </tr>\n",
       "    <tr>\n",
       "      <th>5</th>\n",
       "      <td>Argentina</td>\n",
       "      <td>ARG</td>\n",
       "      <td>17.716</td>\n",
       "      <td>59.9000</td>\n",
       "      <td>High income</td>\n",
       "    </tr>\n",
       "    <tr>\n",
       "      <th>6</th>\n",
       "      <td>Armenia</td>\n",
       "      <td>ARM</td>\n",
       "      <td>13.308</td>\n",
       "      <td>41.9000</td>\n",
       "      <td>Lower middle income</td>\n",
       "    </tr>\n",
       "    <tr>\n",
       "      <th>7</th>\n",
       "      <td>Antigua and Barbuda</td>\n",
       "      <td>ATG</td>\n",
       "      <td>16.447</td>\n",
       "      <td>63.4000</td>\n",
       "      <td>High income</td>\n",
       "    </tr>\n",
       "    <tr>\n",
       "      <th>8</th>\n",
       "      <td>Australia</td>\n",
       "      <td>AUS</td>\n",
       "      <td>13.200</td>\n",
       "      <td>83.0000</td>\n",
       "      <td>High income</td>\n",
       "    </tr>\n",
       "    <tr>\n",
       "      <th>9</th>\n",
       "      <td>Austria</td>\n",
       "      <td>AUT</td>\n",
       "      <td>9.400</td>\n",
       "      <td>80.6188</td>\n",
       "      <td>High income</td>\n",
       "    </tr>\n",
       "  </tbody>\n",
       "</table>\n",
       "</div>"
      ],
      "text/plain": [
       "           Country Name Country Code  Birth rate  Internet users  \\\n",
       "0                 Aruba          ABW      10.244         78.9000   \n",
       "1           Afghanistan          AFG      35.253          5.9000   \n",
       "2                Angola          AGO      45.985         19.1000   \n",
       "3               Albania          ALB      12.877         57.2000   \n",
       "4  United Arab Emirates          ARE      11.044         88.0000   \n",
       "5             Argentina          ARG      17.716         59.9000   \n",
       "6               Armenia          ARM      13.308         41.9000   \n",
       "7   Antigua and Barbuda          ATG      16.447         63.4000   \n",
       "8             Australia          AUS      13.200         83.0000   \n",
       "9               Austria          AUT       9.400         80.6188   \n",
       "\n",
       "          Income Group  \n",
       "0          High income  \n",
       "1           Low income  \n",
       "2  Upper middle income  \n",
       "3  Upper middle income  \n",
       "4          High income  \n",
       "5          High income  \n",
       "6  Lower middle income  \n",
       "7          High income  \n",
       "8          High income  \n",
       "9          High income  "
      ]
     },
     "execution_count": 6,
     "metadata": {},
     "output_type": "execute_result"
    }
   ],
   "source": [
    "#Obtención de la información (Datos Demográficos de Superdatascience.com)\n",
    "\n",
    "import pandas as pd\n",
    "import numpy as np\n",
    "import scipy.stats\n",
    "\n",
    "filename = 'https://sds-platform-private.s3-us-east-2.amazonaws.com/uploads/P4-Demographic-Data.csv'\n",
    "data = pd.read_csv(filename, header=0)\n",
    "\n",
    "data.head(10) #Ver las 10 primeras filas\n"
   ]
  },
  {
   "cell_type": "code",
   "execution_count": 9,
   "id": "c48e3dc7",
   "metadata": {
    "scrolled": true
   },
   "outputs": [
    {
     "data": {
      "text/plain": [
       "Country Name      0\n",
       "Country Code      0\n",
       "Birth rate        0\n",
       "Internet users    0\n",
       "Income Group      0\n",
       "dtype: int64"
      ]
     },
     "execution_count": 9,
     "metadata": {},
     "output_type": "execute_result"
    }
   ],
   "source": [
    "data.isnull().sum()"
   ]
  },
  {
   "cell_type": "code",
   "execution_count": 7,
   "id": "253daaa3",
   "metadata": {},
   "outputs": [
    {
     "data": {
      "text/plain": [
       "42.0764708919487"
      ]
     },
     "execution_count": 7,
     "metadata": {},
     "output_type": "execute_result"
    }
   ],
   "source": [
    "#Paquetes para análisis estadístico\n",
    "import math\n",
    "import statistics\n",
    "import numpy as np\n",
    "import scipy.stats\n",
    "import pandas as pd\n",
    "\n",
    "#Extracción del promedio con numpy\n",
    "np.mean(data['Internet users'])\n"
   ]
  },
  {
   "cell_type": "code",
   "execution_count": 8,
   "id": "347d9194",
   "metadata": {},
   "outputs": [
    {
     "data": {
      "text/plain": [
       "42.0764708919487"
      ]
     },
     "execution_count": 8,
     "metadata": {},
     "output_type": "execute_result"
    }
   ],
   "source": [
    "#Extracción del promedio con pandas\n",
    "data['Internet users'].mean()"
   ]
  },
  {
   "cell_type": "code",
   "execution_count": 13,
   "id": "b7f1bd78",
   "metadata": {
    "scrolled": true
   },
   "outputs": [
    {
     "data": {
      "text/plain": [
       "Income Group\n",
       "High income            74.231684\n",
       "Low income              5.988333\n",
       "Lower middle income    22.366386\n",
       "Upper middle income    40.279577\n",
       "Name: Internet users, dtype: float64"
      ]
     },
     "execution_count": 13,
     "metadata": {},
     "output_type": "execute_result"
    }
   ],
   "source": [
    "data.groupby('Income Group')['Internet users'].mean()"
   ]
  },
  {
   "cell_type": "code",
   "execution_count": 9,
   "id": "4fe00f99",
   "metadata": {},
   "outputs": [
    {
     "data": {
      "text/plain": [
       "41.0"
      ]
     },
     "execution_count": 9,
     "metadata": {},
     "output_type": "execute_result"
    }
   ],
   "source": [
    "#mediana con numpy\n",
    "np.median(data['Internet users'])"
   ]
  },
  {
   "cell_type": "code",
   "execution_count": 10,
   "id": "3d3c9648",
   "metadata": {},
   "outputs": [
    {
     "data": {
      "text/plain": [
       "41.0"
      ]
     },
     "execution_count": 10,
     "metadata": {},
     "output_type": "execute_result"
    }
   ],
   "source": [
    "#mediana con pandas\n",
    "data['Internet users'].median()"
   ]
  },
  {
   "cell_type": "code",
   "execution_count": 11,
   "id": "fbb45b14",
   "metadata": {
    "scrolled": true
   },
   "outputs": [
    {
     "data": {
      "text/plain": [
       "Income Group\n",
       "High income            74.10\n",
       "Low income              4.45\n",
       "Lower middle income    19.85\n",
       "Upper middle income    43.63\n",
       "Name: Internet users, dtype: float64"
      ]
     },
     "execution_count": 11,
     "metadata": {},
     "output_type": "execute_result"
    }
   ],
   "source": [
    "data.groupby('Income Group')['Internet users'].median()"
   ]
  },
  {
   "cell_type": "code",
   "execution_count": 27,
   "id": "05991209",
   "metadata": {
    "scrolled": true
   },
   "outputs": [
    {
     "data": {
      "text/plain": [
       "0    High income\n",
       "Name: Income Group, dtype: object"
      ]
     },
     "execution_count": 27,
     "metadata": {},
     "output_type": "execute_result"
    }
   ],
   "source": [
    "data['Income Group'].mode()"
   ]
  },
  {
   "cell_type": "code",
   "execution_count": 12,
   "id": "feb48897",
   "metadata": {
    "scrolled": false
   },
   "outputs": [
    {
     "data": {
      "text/plain": [
       "Income Group\n",
       "High income            67\n",
       "Low income             30\n",
       "Lower middle income    50\n",
       "Upper middle income    48\n",
       "Name: Country Name, dtype: int64"
      ]
     },
     "execution_count": 12,
     "metadata": {},
     "output_type": "execute_result"
    }
   ],
   "source": [
    "data.groupby('Income Group')['Country Name'].count()"
   ]
  },
  {
   "cell_type": "code",
   "execution_count": 13,
   "id": "5a05d8ac",
   "metadata": {},
   "outputs": [
    {
     "data": {
      "text/plain": [
       "842.7866765672667"
      ]
     },
     "execution_count": 13,
     "metadata": {},
     "output_type": "execute_result"
    }
   ],
   "source": [
    "#varianza con numpy\n",
    "np.var(data['Internet users'], ddof=1)"
   ]
  },
  {
   "cell_type": "code",
   "execution_count": 34,
   "id": "ff232bb1",
   "metadata": {},
   "outputs": [
    {
     "data": {
      "text/plain": [
       "842.7866765672667"
      ]
     },
     "execution_count": 34,
     "metadata": {},
     "output_type": "execute_result"
    }
   ],
   "source": [
    "#varianza con pandas\n",
    "data['Internet users'].var(ddof=1)"
   ]
  },
  {
   "cell_type": "code",
   "execution_count": 14,
   "id": "e330b93e",
   "metadata": {},
   "outputs": [
    {
     "data": {
      "text/plain": [
       "Income Group\n",
       "High income            205.441680\n",
       "Low income              24.086842\n",
       "Lower middle income    196.051688\n",
       "Upper middle income    249.176134\n",
       "Name: Internet users, dtype: float64"
      ]
     },
     "execution_count": 14,
     "metadata": {},
     "output_type": "execute_result"
    }
   ],
   "source": [
    "data.groupby('Income Group')['Internet users'].var(ddof=1)"
   ]
  },
  {
   "cell_type": "code",
   "execution_count": 15,
   "id": "9b30f845",
   "metadata": {},
   "outputs": [
    {
     "data": {
      "text/plain": [
       "29.030788424830398"
      ]
     },
     "execution_count": 15,
     "metadata": {},
     "output_type": "execute_result"
    }
   ],
   "source": [
    "#std dev con numpy\n",
    "np.std(data['Internet users'], ddof=1)"
   ]
  },
  {
   "cell_type": "code",
   "execution_count": 16,
   "id": "0bc8933f",
   "metadata": {},
   "outputs": [
    {
     "data": {
      "text/plain": [
       "29.030788424830398"
      ]
     },
     "execution_count": 16,
     "metadata": {},
     "output_type": "execute_result"
    }
   ],
   "source": [
    "#std dev con pandas\n",
    "data['Internet users'].std(ddof=1)"
   ]
  },
  {
   "cell_type": "code",
   "execution_count": 17,
   "id": "4e99f3dd",
   "metadata": {
    "scrolled": true
   },
   "outputs": [
    {
     "data": {
      "text/plain": [
       "Income Group\n",
       "High income            14.333237\n",
       "Low income              4.907835\n",
       "Lower middle income    14.001846\n",
       "Upper middle income    15.785314\n",
       "Name: Internet users, dtype: float64"
      ]
     },
     "execution_count": 17,
     "metadata": {},
     "output_type": "execute_result"
    }
   ],
   "source": [
    "data.groupby('Income Group')['Internet users'].std(ddof=1)"
   ]
  },
  {
   "cell_type": "code",
   "execution_count": 18,
   "id": "d697744e",
   "metadata": {},
   "outputs": [
    {
     "data": {
      "text/plain": [
       "0.18229885928676587"
      ]
     },
     "execution_count": 18,
     "metadata": {},
     "output_type": "execute_result"
    }
   ],
   "source": [
    "#skewness con pandas\n",
    "data['Internet users'].skew()"
   ]
  },
  {
   "cell_type": "code",
   "execution_count": 19,
   "id": "175bbb06",
   "metadata": {},
   "outputs": [
    {
     "data": {
      "text/plain": [
       "0.1822988592867659"
      ]
     },
     "execution_count": 19,
     "metadata": {},
     "output_type": "execute_result"
    }
   ],
   "source": [
    "scipy.stats.skew(data['Internet users'], bias=False)"
   ]
  },
  {
   "cell_type": "code",
   "execution_count": 20,
   "id": "795e69c8",
   "metadata": {
    "scrolled": true
   },
   "outputs": [
    {
     "data": {
      "text/plain": [
       "Income Group\n",
       "High income           -0.916863\n",
       "Low income             1.176777\n",
       "Lower middle income    0.474051\n",
       "Upper middle income   -0.402620\n",
       "Name: Internet users, dtype: float64"
      ]
     },
     "execution_count": 20,
     "metadata": {},
     "output_type": "execute_result"
    }
   ],
   "source": [
    "data.groupby('Income Group')['Internet users'].skew()"
   ]
  },
  {
   "cell_type": "code",
   "execution_count": 21,
   "id": "12e8edd9",
   "metadata": {},
   "outputs": [
    {
     "data": {
      "text/plain": [
       "array([14.52 , 41.   , 66.225])"
      ]
     },
     "execution_count": 21,
     "metadata": {},
     "output_type": "execute_result"
    }
   ],
   "source": [
    "np.percentile(data['Internet users'], [25, 50, 75])"
   ]
  },
  {
   "cell_type": "code",
   "execution_count": 22,
   "id": "a40dee14",
   "metadata": {},
   "outputs": [
    {
     "data": {
      "text/plain": [
       "0.25    14.520\n",
       "0.50    41.000\n",
       "0.75    66.225\n",
       "Name: Internet users, dtype: float64"
      ]
     },
     "execution_count": 22,
     "metadata": {},
     "output_type": "execute_result"
    }
   ],
   "source": [
    "data['Internet users'].quantile([0.25, 0.5, 0.75])"
   ]
  },
  {
   "cell_type": "code",
   "execution_count": 23,
   "id": "6d491b52",
   "metadata": {
    "scrolled": true
   },
   "outputs": [
    {
     "data": {
      "text/plain": [
       "Income Group             \n",
       "High income          0.25    65.6274\n",
       "                     0.50    74.1000\n",
       "                     0.75    84.4850\n",
       "Low income           0.25     2.2250\n",
       "                     0.50     4.4500\n",
       "                     0.75     8.4500\n",
       "Lower middle income  0.25    11.3500\n",
       "                     0.50    19.8500\n",
       "                     0.75    36.4550\n",
       "Upper middle income  0.25    32.6875\n",
       "                     0.50    43.6300\n",
       "                     0.75    51.5500\n",
       "Name: Internet users, dtype: float64"
      ]
     },
     "execution_count": 23,
     "metadata": {},
     "output_type": "execute_result"
    }
   ],
   "source": [
    "data.groupby('Income Group')['Internet users'].quantile([0.25, 0.5, 0.75])"
   ]
  },
  {
   "cell_type": "code",
   "execution_count": 24,
   "id": "0bf9f156",
   "metadata": {},
   "outputs": [
    {
     "data": {
      "text/plain": [
       "95.6468"
      ]
     },
     "execution_count": 24,
     "metadata": {},
     "output_type": "execute_result"
    }
   ],
   "source": [
    "#Rango con numpy\n",
    "np.ptp(data['Internet users'])"
   ]
  },
  {
   "cell_type": "code",
   "execution_count": 25,
   "id": "2934176a",
   "metadata": {},
   "outputs": [
    {
     "data": {
      "text/plain": [
       "95.6468"
      ]
     },
     "execution_count": 25,
     "metadata": {},
     "output_type": "execute_result"
    }
   ],
   "source": [
    "#Rango paso a paso con numpy\n",
    "np.max(data['Internet users'])-np.min(data['Internet users'])"
   ]
  },
  {
   "cell_type": "code",
   "execution_count": 26,
   "id": "50d6d539",
   "metadata": {},
   "outputs": [
    {
     "data": {
      "text/plain": [
       "95.6468"
      ]
     },
     "execution_count": 26,
     "metadata": {},
     "output_type": "execute_result"
    }
   ],
   "source": [
    "#Rango paso a paso con pandas\n",
    "data['Internet users'].max()-data['Internet users'].min()"
   ]
  },
  {
   "cell_type": "code",
   "execution_count": 27,
   "id": "01d77d0c",
   "metadata": {},
   "outputs": [],
   "source": [
    "#Rango intercuantílico paso a paso con numpy\n",
    "x=data['Internet users']\n",
    "quartiles = np.quantile(x, [0.25, 0.75])"
   ]
  },
  {
   "cell_type": "code",
   "execution_count": 28,
   "id": "c973c0aa",
   "metadata": {},
   "outputs": [
    {
     "data": {
      "text/plain": [
       "51.705"
      ]
     },
     "execution_count": 28,
     "metadata": {},
     "output_type": "execute_result"
    }
   ],
   "source": [
    "quartiles[1] - quartiles[0]"
   ]
  },
  {
   "cell_type": "code",
   "execution_count": 63,
   "id": "916002c6",
   "metadata": {},
   "outputs": [
    {
     "data": {
      "text/plain": [
       "0.25    14.520\n",
       "0.75    66.225\n",
       "Name: Internet users, dtype: float64"
      ]
     },
     "execution_count": 63,
     "metadata": {},
     "output_type": "execute_result"
    }
   ],
   "source": [
    "#Rango intercuantílico paso a paso con pandas\n",
    "x=data['Internet users']\n",
    "cuartiles = x.quantile([0.25,0.75])\n",
    "cuartiles"
   ]
  },
  {
   "cell_type": "code",
   "execution_count": 65,
   "id": "9f508f0c",
   "metadata": {},
   "outputs": [
    {
     "data": {
      "text/plain": [
       "51.705"
      ]
     },
     "execution_count": 65,
     "metadata": {},
     "output_type": "execute_result"
    }
   ],
   "source": [
    "cuartiles[0.75]-cuartiles[0.25]"
   ]
  },
  {
   "cell_type": "code",
   "execution_count": 77,
   "id": "ba6cfac3",
   "metadata": {},
   "outputs": [],
   "source": [
    "x=data['Internet users']\n",
    "resultado=scipy.stats.describe(x, ddof=1, bias=False)"
   ]
  },
  {
   "cell_type": "code",
   "execution_count": 78,
   "id": "d31cda88",
   "metadata": {},
   "outputs": [
    {
     "data": {
      "text/plain": [
       "DescribeResult(nobs=195, minmax=(0.9, 96.5468), mean=42.07647089194872, variance=842.7866765672659, skewness=0.1822988592867659, kurtosis=-1.2440236102106508)"
      ]
     },
     "execution_count": 78,
     "metadata": {},
     "output_type": "execute_result"
    }
   ],
   "source": [
    "resultado"
   ]
  },
  {
   "cell_type": "code",
   "execution_count": 79,
   "id": "eb071ef1",
   "metadata": {},
   "outputs": [
    {
     "data": {
      "text/plain": [
       "195"
      ]
     },
     "execution_count": 79,
     "metadata": {},
     "output_type": "execute_result"
    }
   ],
   "source": [
    "resultado.nobs"
   ]
  },
  {
   "cell_type": "code",
   "execution_count": 80,
   "id": "2d0a360e",
   "metadata": {},
   "outputs": [
    {
     "data": {
      "text/plain": [
       "96.5468"
      ]
     },
     "execution_count": 80,
     "metadata": {},
     "output_type": "execute_result"
    }
   ],
   "source": [
    "resultado.minmax[1] #max"
   ]
  },
  {
   "cell_type": "code",
   "execution_count": 81,
   "id": "1012d8be",
   "metadata": {},
   "outputs": [
    {
     "data": {
      "text/plain": [
       "0.9"
      ]
     },
     "execution_count": 81,
     "metadata": {},
     "output_type": "execute_result"
    }
   ],
   "source": [
    "resultado.minmax[0] #min"
   ]
  },
  {
   "cell_type": "code",
   "execution_count": 82,
   "id": "45c69ab3",
   "metadata": {},
   "outputs": [
    {
     "data": {
      "text/plain": [
       "842.7866765672659"
      ]
     },
     "execution_count": 82,
     "metadata": {},
     "output_type": "execute_result"
    }
   ],
   "source": [
    "resultado.variance"
   ]
  },
  {
   "cell_type": "code",
   "execution_count": 69,
   "id": "6782a978",
   "metadata": {},
   "outputs": [
    {
     "data": {
      "text/plain": [
       "DescribeResult(nobs=195, minmax=(0.9, 96.5468), mean=42.07647089194872, variance=842.7866765672659, skewness=0.18089355320326375, kurtosis=-1.2429659925301357)"
      ]
     },
     "execution_count": 69,
     "metadata": {},
     "output_type": "execute_result"
    }
   ],
   "source": [
    "scipy.stats.describe(x, ddof=1, bias=True)"
   ]
  },
  {
   "cell_type": "code",
   "execution_count": 4,
   "id": "59a95c00",
   "metadata": {},
   "outputs": [],
   "source": [
    "x=data['Internet users']\n",
    "resultado=x.describe()"
   ]
  },
  {
   "cell_type": "code",
   "execution_count": 5,
   "id": "7dc59fbb",
   "metadata": {},
   "outputs": [
    {
     "data": {
      "text/plain": [
       "count    195.000000\n",
       "mean      42.076471\n",
       "std       29.030788\n",
       "min        0.900000\n",
       "25%       14.520000\n",
       "50%       41.000000\n",
       "75%       66.225000\n",
       "max       96.546800\n",
       "Name: Internet users, dtype: float64"
      ]
     },
     "execution_count": 5,
     "metadata": {},
     "output_type": "execute_result"
    }
   ],
   "source": [
    "resultado"
   ]
  },
  {
   "cell_type": "code",
   "execution_count": 6,
   "id": "3e2a8607",
   "metadata": {},
   "outputs": [
    {
     "data": {
      "text/plain": [
       "42.0764708919487"
      ]
     },
     "execution_count": 6,
     "metadata": {},
     "output_type": "execute_result"
    }
   ],
   "source": [
    "resultado['mean']"
   ]
  },
  {
   "cell_type": "code",
   "execution_count": 7,
   "id": "6adc0fa8",
   "metadata": {},
   "outputs": [
    {
     "data": {
      "text/plain": [
       "29.030788424830398"
      ]
     },
     "execution_count": 7,
     "metadata": {},
     "output_type": "execute_result"
    }
   ],
   "source": [
    "resultado['std']"
   ]
  },
  {
   "cell_type": "code",
   "execution_count": 8,
   "id": "93fd7f9d",
   "metadata": {},
   "outputs": [
    {
     "data": {
      "text/plain": [
       "41.0"
      ]
     },
     "execution_count": 8,
     "metadata": {},
     "output_type": "execute_result"
    }
   ],
   "source": [
    "resultado['50%']"
   ]
  },
  {
   "cell_type": "code",
   "execution_count": 9,
   "id": "9a48dc48",
   "metadata": {
    "scrolled": true
   },
   "outputs": [
    {
     "data": {
      "text/html": [
       "<div>\n",
       "<style scoped>\n",
       "    .dataframe tbody tr th:only-of-type {\n",
       "        vertical-align: middle;\n",
       "    }\n",
       "\n",
       "    .dataframe tbody tr th {\n",
       "        vertical-align: top;\n",
       "    }\n",
       "\n",
       "    .dataframe thead th {\n",
       "        text-align: right;\n",
       "    }\n",
       "</style>\n",
       "<table border=\"1\" class=\"dataframe\">\n",
       "  <thead>\n",
       "    <tr style=\"text-align: right;\">\n",
       "      <th></th>\n",
       "      <th>count</th>\n",
       "      <th>mean</th>\n",
       "      <th>std</th>\n",
       "      <th>min</th>\n",
       "      <th>25%</th>\n",
       "      <th>50%</th>\n",
       "      <th>75%</th>\n",
       "      <th>max</th>\n",
       "    </tr>\n",
       "    <tr>\n",
       "      <th>Income Group</th>\n",
       "      <th></th>\n",
       "      <th></th>\n",
       "      <th></th>\n",
       "      <th></th>\n",
       "      <th></th>\n",
       "      <th></th>\n",
       "      <th></th>\n",
       "      <th></th>\n",
       "    </tr>\n",
       "  </thead>\n",
       "  <tbody>\n",
       "    <tr>\n",
       "      <th>High income</th>\n",
       "      <td>67.0</td>\n",
       "      <td>74.231684</td>\n",
       "      <td>14.333237</td>\n",
       "      <td>16.4</td>\n",
       "      <td>65.6274</td>\n",
       "      <td>74.10</td>\n",
       "      <td>84.485</td>\n",
       "      <td>96.5468</td>\n",
       "    </tr>\n",
       "    <tr>\n",
       "      <th>Low income</th>\n",
       "      <td>30.0</td>\n",
       "      <td>5.988333</td>\n",
       "      <td>4.907835</td>\n",
       "      <td>0.9</td>\n",
       "      <td>2.2250</td>\n",
       "      <td>4.45</td>\n",
       "      <td>8.450</td>\n",
       "      <td>18.5000</td>\n",
       "    </tr>\n",
       "    <tr>\n",
       "      <th>Lower middle income</th>\n",
       "      <td>50.0</td>\n",
       "      <td>22.366386</td>\n",
       "      <td>14.001846</td>\n",
       "      <td>1.1</td>\n",
       "      <td>11.3500</td>\n",
       "      <td>19.85</td>\n",
       "      <td>36.455</td>\n",
       "      <td>56.0000</td>\n",
       "    </tr>\n",
       "    <tr>\n",
       "      <th>Upper middle income</th>\n",
       "      <td>48.0</td>\n",
       "      <td>40.279577</td>\n",
       "      <td>15.785314</td>\n",
       "      <td>9.2</td>\n",
       "      <td>32.6875</td>\n",
       "      <td>43.63</td>\n",
       "      <td>51.550</td>\n",
       "      <td>70.5000</td>\n",
       "    </tr>\n",
       "  </tbody>\n",
       "</table>\n",
       "</div>"
      ],
      "text/plain": [
       "                     count       mean        std   min      25%    50%  \\\n",
       "Income Group                                                             \n",
       "High income           67.0  74.231684  14.333237  16.4  65.6274  74.10   \n",
       "Low income            30.0   5.988333   4.907835   0.9   2.2250   4.45   \n",
       "Lower middle income   50.0  22.366386  14.001846   1.1  11.3500  19.85   \n",
       "Upper middle income   48.0  40.279577  15.785314   9.2  32.6875  43.63   \n",
       "\n",
       "                        75%      max  \n",
       "Income Group                          \n",
       "High income          84.485  96.5468  \n",
       "Low income            8.450  18.5000  \n",
       "Lower middle income  36.455  56.0000  \n",
       "Upper middle income  51.550  70.5000  "
      ]
     },
     "execution_count": 9,
     "metadata": {},
     "output_type": "execute_result"
    }
   ],
   "source": [
    "data.groupby('Income Group')['Internet users'].describe()"
   ]
  },
  {
   "cell_type": "code",
   "execution_count": 29,
   "id": "d58b6d30",
   "metadata": {},
   "outputs": [
    {
     "data": {
      "text/plain": [
       "array([14.52 , 66.225])"
      ]
     },
     "execution_count": 29,
     "metadata": {},
     "output_type": "execute_result"
    }
   ],
   "source": [
    "quartiles"
   ]
  },
  {
   "cell_type": "code",
   "execution_count": null,
   "id": "441614d9",
   "metadata": {},
   "outputs": [],
   "source": []
  }
 ],
 "metadata": {
  "kernelspec": {
   "display_name": "Python 3 (ipykernel)",
   "language": "python",
   "name": "python3"
  },
  "language_info": {
   "codemirror_mode": {
    "name": "ipython",
    "version": 3
   },
   "file_extension": ".py",
   "mimetype": "text/x-python",
   "name": "python",
   "nbconvert_exporter": "python",
   "pygments_lexer": "ipython3",
   "version": "3.9.13"
  }
 },
 "nbformat": 4,
 "nbformat_minor": 5
}
